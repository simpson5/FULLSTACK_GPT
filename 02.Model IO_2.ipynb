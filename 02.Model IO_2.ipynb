{
 "cells": [
  {
   "cell_type": "code",
   "execution_count": 2,
   "metadata": {},
   "outputs": [
    {
     "name": "stdout",
     "output_type": "stream",
     "text": [
      "\n",
      "                🦸‍♂️🌌⚔️\n",
      "                첫 번째 아이콘은 어벤져스의 슈퍼히어로들을 나타내며, 두 번째 아이콘은 우주적인 스케일을 나타내며, 세 번째 아이콘은 전투와 대결을 나타냅니다."
     ]
    },
    {
     "data": {
      "text/plain": [
       "AIMessageChunk(content='\\n                🦸\\u200d♂️🌌⚔️\\n                첫 번째 아이콘은 어벤져스의 슈퍼히어로들을 나타내며, 두 번째 아이콘은 우주적인 스케일을 나타내며, 세 번째 아이콘은 전투와 대결을 나타냅니다.')"
      ]
     },
     "execution_count": 2,
     "metadata": {},
     "output_type": "execute_result"
    }
   ],
   "source": [
    "from langchain.chat_models import ChatOpenAI\n",
    "from langchain.prompts.few_shot import FewShotChatMessagePromptTemplate\n",
    "from langchain.callbacks import StreamingStdOutCallbackHandler\n",
    "from langchain.prompts import ChatMessagePromptTemplate, ChatPromptTemplate\n",
    "\n",
    "chat = ChatOpenAI(\n",
    "    temperature=0.1,\n",
    "    streaming=True,\n",
    "    callbacks=[\n",
    "        StreamingStdOutCallbackHandler(),\n",
    "    ],\n",
    ")\n",
    "\n",
    "\n",
    "examples = [\n",
    "    {\n",
    "        \"movie\": \"topgun\",\n",
    "        \"answer\": \"\"\"\n",
    "                🛩️👨‍✈️🔥\n",
    "                첫 번째 아이콘은 탑건의 비행기를 나타내며, 두 번째 아이콘은 탑건의 파일럿을 나타내며, 세 번째 아이콘은 비행기 전투를 나타냅니다.\n",
    "        \"\"\",\n",
    "    },\n",
    "    {\n",
    "        \"movie\": \"godzilla\",\n",
    "        \"answer\": \"\"\"\n",
    "                🦖🔥👑\n",
    "                첫 번째 아이콘은 고지라의 모습을 나타내며, 두 번째 아이콘은 고지라의 불꽃을 나타내며, 세 번째 아이콘은 고지라의 왕관을 나타냅니다.\n",
    "        \"\"\",\n",
    "    },\n",
    "]\n",
    "\n",
    "\n",
    "example_prompt = ChatPromptTemplate.from_messages(\n",
    "    [\n",
    "        (\"human\", \"Express {movie} with 3 icons and explain\"),\n",
    "        (\"ai\", \"{answer}\"),\n",
    "    ]\n",
    ")\n",
    "\n",
    "example_prompt = FewShotChatMessagePromptTemplate(\n",
    "    example_prompt=example_prompt,\n",
    "    examples=examples,\n",
    ")\n",
    "\n",
    "final_prompt = ChatPromptTemplate.from_messages(\n",
    "    [\n",
    "        (\"system\", \"You are a movie expert. Here are some examples of how you talk. and answer in Korean.\"),\n",
    "        example_prompt,\n",
    "        (\"human\", \"Express {movie} with 3 icons and explain\"),\n",
    "    ]\n",
    ")\n",
    "\n",
    "chain = final_prompt | chat\n",
    "\n",
    "chain.invoke({\"movie\": \"avengers endgame\"})"
   ]
  }
 ],
 "metadata": {
  "kernelspec": {
   "display_name": "env",
   "language": "python",
   "name": "python3"
  },
  "language_info": {
   "codemirror_mode": {
    "name": "ipython",
    "version": 3
   },
   "file_extension": ".py",
   "mimetype": "text/x-python",
   "name": "python",
   "nbconvert_exporter": "python",
   "pygments_lexer": "ipython3",
   "version": "3.11.6"
  }
 },
 "nbformat": 4,
 "nbformat_minor": 2
}
