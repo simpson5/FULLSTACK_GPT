{
 "cells": [
  {
   "cell_type": "code",
   "execution_count": 2,
   "metadata": {},
   "outputs": [
    {
     "data": {
      "text/plain": [
       "AIMessage(content='Victory Mansions is a place where Winston lives. It is described as a dilapidated apartment building with poor living conditions. The building is run-down, with faulty plumbing and electricity. The atmosphere is grim and oppressive, reflecting the overall bleakness of the society in which Winston resides.')"
      ]
     },
     "execution_count": 2,
     "metadata": {},
     "output_type": "execute_result"
    }
   ],
   "source": [
    "# LangChain 필요 컴포넌트 임포트\n",
    "from langchain.chat_models import ChatOpenAI  # LLM 모델 (ChatGPT)\n",
    "from langchain.document_loaders import UnstructuredFileLoader  # 텍스트 파일 로더\n",
    "from langchain.text_splitter import CharacterTextSplitter  # 문서 분할기\n",
    "from langchain.embeddings import OpenAIEmbeddings, CacheBackedEmbeddings  # 텍스트 임베딩 도구\n",
    "from langchain.vectorstores import FAISS  # 벡터 데이터베이스\n",
    "from langchain.storage import LocalFileStore  # 로컬 캐시 저장소\n",
    "from langchain.prompts import ChatPromptTemplate  # 프롬프트 템플릿\n",
    "from langchain.schema.runnable import RunnablePassthrough  # 체인 구성 유틸리티\n",
    "\n",
    "# LLM 모델 초기화 (낮은 temperature로 일관된 응답 유도)\n",
    "llm = ChatOpenAI(\n",
    "    temperature=0.1,\n",
    ")\n",
    "\n",
    "# 임베딩 캐시 저장소 설정\n",
    "cache_dir = LocalFileStore(\"./.cache/\")\n",
    "\n",
    "# 문서 분할 설정\n",
    "# chunk_size: 각 분할 크기, chunk_overlap: 분할 간 중복되는 부분\n",
    "splitter = CharacterTextSplitter.from_tiktoken_encoder(\n",
    "    separator=\"\\n\",\n",
    "    chunk_size=600,\n",
    "    chunk_overlap=100,\n",
    ")\n",
    "\n",
    "# 텍스트 파일 로드\n",
    "loader = UnstructuredFileLoader(\"./files/document.txt\")\n",
    "\n",
    "# 문서를 설정된 크기로 분할\n",
    "docs = loader.load_and_split(text_splitter=splitter)\n",
    "\n",
    "# OpenAI 임베딩 모델 초기화\n",
    "embeddings = OpenAIEmbeddings()\n",
    "\n",
    "# 임베딩 결과 캐싱 설정 (API 비용 절감)\n",
    "cached_embeddings = CacheBackedEmbeddings.from_bytes_store(embeddings, cache_dir)\n",
    "\n",
    "# 분할된 문서를 벡터화하여 FAISS에 저장\n",
    "vectorstore = FAISS.from_documents(docs, cached_embeddings)\n",
    "\n",
    "# 유사도 검색을 위한 리트리버 생성\n",
    "# what is retriver?\n",
    "# 한개의 스트링을 받아 질문이나 그와 관련성이 있는 문서를 얻기위한 쿼리 등\n",
    "# 출력값은 문서의 리스트임\n",
    "retriver = vectorstore.as_retriever()\n",
    "\n",
    "# 질문-답변을 위한 프롬프트 템플릿 정의\n",
    "prompt = ChatPromptTemplate.from_messages(\n",
    "    [\n",
    "        (\n",
    "            \"system\",\n",
    "            \"You are a helpful assistant. Answer questions using only the following context. If you don't know the answer just say you don't know, don't make it up:\\n\\n{context}\",\n",
    "        ),\n",
    "        (\"human\", \"{question}\"),\n",
    "    ]\n",
    ")\n",
    "\n",
    "# 전체 체인 구성:\n",
    "# 1. 질문에 관련된 문서 검색\n",
    "# 2. 검색된 문서를 컨텍스트로 프롬프트 생성\n",
    "# 3. LLM으로 답변 생성\n",
    "chain = (\n",
    "    {\n",
    "        \"context\": retriver,  # 문서 검색\n",
    "        \"question\": RunnablePassthrough(),  # 사용자 질문 전달\n",
    "    }\n",
    "    | prompt\n",
    "    | llm\n",
    ")\n",
    "\n",
    "# Victory Mansions에 대한 설명 요청\n",
    "chain.invoke(\"Describe Victory Mansions\")"
   ]
  }
 ],
 "metadata": {
  "kernelspec": {
   "display_name": "env",
   "language": "python",
   "name": "python3"
  },
  "language_info": {
   "codemirror_mode": {
    "name": "ipython",
    "version": 3
   },
   "file_extension": ".py",
   "mimetype": "text/x-python",
   "name": "python",
   "nbconvert_exporter": "python",
   "pygments_lexer": "ipython3",
   "version": "3.11.6"
  }
 },
 "nbformat": 4,
 "nbformat_minor": 2
}
