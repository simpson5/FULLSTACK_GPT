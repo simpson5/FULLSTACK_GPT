{
 "cells": [
  {
   "cell_type": "code",
   "execution_count": 1,
   "metadata": {},
   "outputs": [],
   "source": [
    "\"\"\"\n",
    "LCEL(LangChain Expression Language)을 사용한 체인 구성 예제\n",
    "목적: 프로그래밍 언어에 대한 시를 쓰고 설명하는 두 개의 체인을 연결\n",
    "\n",
    "1. 시를 쓰는 체인: 프로그래밍 언어의 특징을 시로 표현\n",
    "2. 시를 설명하는 체인: 생성된 시를 분석하여 프로그래밍 언어의 특징 설명\n",
    "3. 두 체인을 LCEL의 파이프라인 연산자(|)를 사용하여 연결\n",
    "\"\"\"\n",
    "\n",
    "from langchain.chat_models import ChatOpenAI\n",
    "from langchain.prompts import ChatPromptTemplate\n",
    "from langchain.callbacks import StreamingStdOutCallbackHandler\n",
    "\n",
    "# ChatOpenAI 모델 설정\n",
    "# temperature=0.1로 설정하여 일관된 출력 보장\n",
    "# streaming=True로 설정하여 실시간으로 출력 확인 가능\n",
    "chat = ChatOpenAI(\n",
    "    temperature=0.1,\n",
    "    streaming=True,\n",
    "    callbacks=[\n",
    "        StreamingStdOutCallbackHandler(),\n",
    "    ],\n",
    ")\n",
    "\n",
    "# 프로그래밍 언어에 대한 시를 쓰는 프롬프트 템플릿\n",
    "# system 메시지: 시인의 역할 정의\n",
    "# human 메시지: 입력받을 프로그래밍 언어 이름을 {language}로 지정\n",
    "poet_prompt = ChatPromptTemplate.from_messages([\n",
    "    (\n",
    "        \"system\",\n",
    "        \"You are a poet who specializes in writing poems about programming languages. Write a beautiful and creative poem that captures the essence and characteristics of the given programming language.\",\n",
    "    ),\n",
    "    (\"human\", \"Write a poem about {language} programming language.\"),\n",
    "])\n",
    "\n",
    "# 시를 설명하는 프롬프트 템플릿\n",
    "# system 메시지: 시 해석가의 역할 정의\n",
    "# human 메시지: 생성된 시를 {poem}으로 입력받음\n",
    "explainer_prompt = ChatPromptTemplate.from_messages([\n",
    "    (\n",
    "        \"system\",\n",
    "        \"You are an expert in explaining poems about programming languages. Analyze the given poem and provide a clear explanation of how it relates to the programming language's features, history, and significance.\",\n",
    "    ),\n",
    "    (\"human\", \"Explain this poem about programming: {poem}\"),\n",
    "])\n",
    "\n",
    "# LCEL을 사용한 체인 구성\n",
    "# 1. 시 생성 체인: 프롬프트 -> 채팅 모델\n",
    "poet_chain = poet_prompt | chat\n",
    "\n",
    "# 2. 시 설명 체인: 프롬프트 -> 채팅 모델\n",
    "explainer_chain = explainer_prompt | chat\n",
    "\n",
    "# 3. 최종 체인 연결\n",
    "# poet_chain의 출력을 explainer_chain의 입력으로 연결\n",
    "# {\"poem\": poet_chain}는 poet_chain의 출력을 \"poem\" 키로 매핑\n",
    "final_chain = {\"poem\": poet_chain} | explainer_chain"
   ]
  },
  {
   "cell_type": "code",
   "execution_count": 2,
   "metadata": {},
   "outputs": [
    {
     "name": "stdout",
     "output_type": "stream",
     "text": [
      "In the land of code, where serpents slither,\n",
      "Python reigns, a language that whispers.\n",
      "Its syntax sleek, like a snake in the grass,\n",
      "Elegant and clean, it moves with such class.\n",
      "\n",
      "With indentation as its guiding light,\n",
      "Python dances through the day and night.\n",
      "Dynamic and versatile, it can do it all,\n",
      "From web development to data's call.\n",
      "\n",
      "Libraries galore, like treasures untold,\n",
      "Pandas, NumPy, Django, so bold.\n",
      "With simplicity and power combined,\n",
      "Python weaves magic of a special kind.\n",
      "\n",
      "So embrace the Python, let it guide your hand,\n",
      "In its coils, you'll surely understand.\n",
      "For in this language, beauty unfurled,\n",
      "A masterpiece of the coding world.This poem beautifully captures the essence of the Python programming language. Let's break it down:\n",
      "\n",
      "1. \"In the land of code, where serpents slither, Python reigns, a language that whispers.\" - Python is often symbolized by a snake due to its name, and the reference to it whispering could represent its readability and simplicity. Python is known for its clear and concise syntax, making it easy to understand and work with.\n",
      "\n",
      "2. \"Its syntax sleek, like a snake in the grass, Elegant and clean, it moves with such class.\" - Python's syntax is indeed elegant and clean, allowing developers to write code that is easy to read and maintain. This simplicity and readability are key features of Python that set it apart from other programming languages.\n",
      "\n",
      "3. \"With indentation as its guiding light, Python dances through the day and night.\" - Python uses indentation to define code blocks, which enforces a clean and consistent structure. This feature encourages good coding practices and readability, making Python code visually appealing and easy to follow.\n",
      "\n",
      "4. \"Dynamic and versatile, it can do it all, From web development to data's call.\" - Python is a versatile language that can be used for a wide range of applications, from web development to data analysis and machine learning. Its flexibility and extensive libraries make it a popular choice for various projects.\n",
      "\n",
      "5. \"Libraries galore, like treasures untold, Pandas, NumPy, Django, so bold.\" - Python has a rich ecosystem of libraries and frameworks that extend its capabilities. Libraries like Pandas for data manipulation, NumPy for numerical computing, and Django for web development showcase the power and versatility of Python in different domains.\n",
      "\n",
      "6. \"With simplicity and power combined, Python weaves magic of a special kind.\" - Python's combination of simplicity and power makes it a favorite among developers. It allows them to write complex programs with ease, making the coding experience enjoyable and productive.\n",
      "\n",
      "7. \"So embrace the Python, let it guide your hand, In its coils, you'll surely understand.\" - The poem encourages embracing Python and letting it guide your programming journey. Python's intuitive nature and vast community support make it a great language for both beginners and experienced developers.\n",
      "\n",
      "8. \"For in this language, beauty unfurled, A masterpiece of the coding world.\" - Python's elegance, readability, versatility, and community support have earned it a special place in the coding world. It continues to grow in popularity and is considered a masterpiece among programming languages.\n",
      "\n",
      "In conclusion, this poem effectively captures the essence of Python as a language that is not only powerful and versatile but also elegant and easy to work with."
     ]
    },
    {
     "data": {
      "text/plain": [
       "AIMessageChunk(content='This poem beautifully captures the essence of the Python programming language. Let\\'s break it down:\\n\\n1. \"In the land of code, where serpents slither, Python reigns, a language that whispers.\" - Python is often symbolized by a snake due to its name, and the reference to it whispering could represent its readability and simplicity. Python is known for its clear and concise syntax, making it easy to understand and work with.\\n\\n2. \"Its syntax sleek, like a snake in the grass, Elegant and clean, it moves with such class.\" - Python\\'s syntax is indeed elegant and clean, allowing developers to write code that is easy to read and maintain. This simplicity and readability are key features of Python that set it apart from other programming languages.\\n\\n3. \"With indentation as its guiding light, Python dances through the day and night.\" - Python uses indentation to define code blocks, which enforces a clean and consistent structure. This feature encourages good coding practices and readability, making Python code visually appealing and easy to follow.\\n\\n4. \"Dynamic and versatile, it can do it all, From web development to data\\'s call.\" - Python is a versatile language that can be used for a wide range of applications, from web development to data analysis and machine learning. Its flexibility and extensive libraries make it a popular choice for various projects.\\n\\n5. \"Libraries galore, like treasures untold, Pandas, NumPy, Django, so bold.\" - Python has a rich ecosystem of libraries and frameworks that extend its capabilities. Libraries like Pandas for data manipulation, NumPy for numerical computing, and Django for web development showcase the power and versatility of Python in different domains.\\n\\n6. \"With simplicity and power combined, Python weaves magic of a special kind.\" - Python\\'s combination of simplicity and power makes it a favorite among developers. It allows them to write complex programs with ease, making the coding experience enjoyable and productive.\\n\\n7. \"So embrace the Python, let it guide your hand, In its coils, you\\'ll surely understand.\" - The poem encourages embracing Python and letting it guide your programming journey. Python\\'s intuitive nature and vast community support make it a great language for both beginners and experienced developers.\\n\\n8. \"For in this language, beauty unfurled, A masterpiece of the coding world.\" - Python\\'s elegance, readability, versatility, and community support have earned it a special place in the coding world. It continues to grow in popularity and is considered a masterpiece among programming languages.\\n\\nIn conclusion, this poem effectively captures the essence of Python as a language that is not only powerful and versatile but also elegant and easy to work with.')"
      ]
     },
     "execution_count": 2,
     "metadata": {},
     "output_type": "execute_result"
    }
   ],
   "source": [
    "\"\"\"\n",
    "체인 실행 예제\n",
    "- Python 프로그래밍 언어에 대한 시와 설명을 생성\n",
    "- final_chain에 language 파라미터를 전달하여 실행\n",
    "- 결과는 실시간으로 스트리밍되어 출력됨\n",
    "\"\"\"\n",
    "\n",
    "# Python에 대한 시와 설명 생성\n",
    "final_chain.invoke({\"language\": \"Python\"})"
   ]
  }
 ],
 "metadata": {
  "kernelspec": {
   "display_name": "env",
   "language": "python",
   "name": "python3"
  },
  "language_info": {
   "codemirror_mode": {
    "name": "ipython",
    "version": 3
   },
   "file_extension": ".py",
   "mimetype": "text/x-python",
   "name": "python",
   "nbconvert_exporter": "python",
   "pygments_lexer": "ipython3",
   "version": "3.11.6"
  }
 },
 "nbformat": 4,
 "nbformat_minor": 2
}
