{
 "cells": [
  {
   "cell_type": "code",
   "execution_count": 3,
   "metadata": {},
   "outputs": [],
   "source": [
    "\"\"\"\n",
    "LCEL(LangChain Expression Language)을 사용한 체인 구성 예제\n",
    "목적: 프로그래밍 언어에 대한 시를 쓰고 설명하는 두 개의 체인을 연결\n",
    "\n",
    "1. 시를 쓰는 체인: 프로그래밍 언어의 특징을 시로 표현\n",
    "2. 시를 설명하는 체인: 생성된 시를 분석하여 프로그래밍 언어의 특징 설명\n",
    "3. 두 체인을 LCEL의 파이프라인 연산자(|)를 사용하여 연결\n",
    "\"\"\"\n",
    "\n",
    "from langchain.chat_models import ChatOpenAI\n",
    "from langchain.prompts import ChatPromptTemplate\n",
    "from langchain.callbacks import StreamingStdOutCallbackHandler\n",
    "\n",
    "# ChatOpenAI 모델 설정\n",
    "# temperature=0.1로 설정하여 일관된 출력 보장\n",
    "# streaming=True로 설정하여 실시간으로 출력 확인 가능\n",
    "chat = ChatOpenAI(\n",
    "    temperature=0.1,\n",
    "    streaming=True,\n",
    "    callbacks=[\n",
    "        StreamingStdOutCallbackHandler(),\n",
    "    ],\n",
    ")\n",
    "\n",
    "# 프로그래밍 언어에 대한 시를 쓰는 프롬프트 템플릿\n",
    "# system 메시지: 시인의 역할 정의\n",
    "# human 메시지: 입력받을 프로그래밍 언어 이름을 {language}로 지정\n",
    "poet_prompt = ChatPromptTemplate.from_messages([\n",
    "    (\n",
    "        \"system\",\n",
    "        \"당신은 프로그래밍 언어에 대한 시를 전문적으로 쓰는 시인입니다. 주어진 프로그래밍 언어의 본질과 특징을 담은 아름답고 창의적인 시를 작성해주세요.\",\n",
    "    ),\n",
    "    (\"human\", \"{language} 프로그래밍 언어에 대한 시를 써주세요.\"),\n",
    "])\n",
    "\n",
    "# 시를 설명하는 프롬프트 템플릿\n",
    "# system 메시지: 시 해석가의 역할 정의\n",
    "# human 메시지: 생성된 시를 {poem}으로 입력받음\n",
    "explainer_prompt = ChatPromptTemplate.from_messages([\n",
    "    (\n",
    "        \"system\",\n",
    "        \"당신은 프로그래밍 언어에 대한 시를 해석하는 전문가입니다. 주어진 시를 분석하여 프로그래밍 언어의 특징, 역사, 중요성과 어떻게 연관되어 있는지 명확하게 설명해주세요.\",\n",
    "    ),\n",
    "    (\"human\", \"이 프로그래밍 언어에 대한 시를 설명해주세요: {poem}\"),\n",
    "])\n",
    "\n",
    "# LCEL을 사용한 체인 구성\n",
    "# 1. 시 생성 체인: 프롬프트 -> 채팅 모델\n",
    "poet_chain = poet_prompt | chat\n",
    "\n",
    "# 2. 시 설명 체인: 프롬프트 -> 채팅 모델\n",
    "explainer_chain = explainer_prompt | chat\n",
    "\n",
    "# 3. 최종 체인 연결\n",
    "# poet_chain의 출력을 explainer_chain의 입력으로 연결\n",
    "# {\"poem\": poet_chain}는 poet_chain의 출력을 \"poem\" 키로 매핑\n",
    "final_chain = {\"poem\": poet_chain} | explainer_chain"
   ]
  },
  {
   "cell_type": "code",
   "execution_count": 5,
   "metadata": {},
   "outputs": [
    {
     "name": "stdout",
     "output_type": "stream",
     "text": [
      "자바야, 너의 이름은 빛나는 별,\n",
      "객체지향의 아름다움을 담은 언어여.\n",
      "\n",
      "클래스와 객체가 춤을 추는,\n",
      "상속과 다형성이 빛을 발하는.\n",
      "\n",
      "컴파일러가 너를 감싸 안고,\n",
      "가상머신이 너를 품에 안기는.\n",
      "\n",
      "네 강력한 기능과 안정성,\n",
      "개발자들의 마음을 사로잡는.\n",
      "\n",
      "너의 라이브러리는 풍부하고 다채로워,\n",
      "개발을 더욱 즐겁게 만들어주는.\n",
      "\n",
      "자바야, 너의 아름다움은 끝이 없고,\n",
      "개발자들의 마음을 사로잡는구나.이 시는 자바 프로그래밍 언어에 대한 찬사를 담고 있습니다. 자바는 객체지향 프로그래밍 언어로, 클래스와 객체를 중심으로 한 프로그래밍을 지원합니다. 이 시에서는 자바의 객체지향적인 특징을 강조하고 있습니다.\n",
      "\n",
      "시의 첫 부분에서는 자바를 \"빛나는 별\"이라 표현하며, 자바의 아름다움을 강조하고 있습니다. 객체지향의 아름다움을 담은 언어로서, 클래스와 객체가 서로 상호작용하며 코드를 구성하는 모습을 \"춤을 추는\" 것으로 표현하고 있습니다. 또한 상속과 다형성이 빛을 발한다는 표현은 자바의 객체지향적인 특징을 강조하고 있습니다.\n",
      "\n",
      "또한, 자바의 컴파일러와 가상머신에 대한 언급은 자바의 특징 중 하나인 플랫폼 독립성을 강조하고 있습니다. 자바는 컴파일러에 의해 바이트 코드로 변환되고, 가상머신에서 실행되는 특징을 가지고 있습니다.\n",
      "\n",
      "시의 마지막 부분에서는 자바의 강력한 기능과 안정성, 풍부하고 다채로운 라이브러리를 통해 개발자들의 마음을 사로잡는다는 점을 강조하고 있습니다. 자바는 다양한 라이브러리와 프레임워크를 제공하여 개발을 보다 쉽고 효율적으로 할 수 있도록 도와줍니다.\n",
      "\n",
      "이 시는 자바 프로그래밍 언어의 아름다움과 강력한 기능, 안정성을 찬양하며, 개발자들이 자바를 통해 즐거운 개발 경험을 할 수 있다는 메시지를 전달하고 있습니다. 자바는 역사적으로도 중요한 위치를 차지하고 있으며, 현재에도 많은 기업과 개발자들이 사용하고 있는 인기 있는 프로그래밍 언어 중 하나입니다."
     ]
    },
    {
     "data": {
      "text/plain": [
       "AIMessageChunk(content='이 시는 자바 프로그래밍 언어에 대한 찬사를 담고 있습니다. 자바는 객체지향 프로그래밍 언어로, 클래스와 객체를 중심으로 한 프로그래밍을 지원합니다. 이 시에서는 자바의 객체지향적인 특징을 강조하고 있습니다.\\n\\n시의 첫 부분에서는 자바를 \"빛나는 별\"이라 표현하며, 자바의 아름다움을 강조하고 있습니다. 객체지향의 아름다움을 담은 언어로서, 클래스와 객체가 서로 상호작용하며 코드를 구성하는 모습을 \"춤을 추는\" 것으로 표현하고 있습니다. 또한 상속과 다형성이 빛을 발한다는 표현은 자바의 객체지향적인 특징을 강조하고 있습니다.\\n\\n또한, 자바의 컴파일러와 가상머신에 대한 언급은 자바의 특징 중 하나인 플랫폼 독립성을 강조하고 있습니다. 자바는 컴파일러에 의해 바이트 코드로 변환되고, 가상머신에서 실행되는 특징을 가지고 있습니다.\\n\\n시의 마지막 부분에서는 자바의 강력한 기능과 안정성, 풍부하고 다채로운 라이브러리를 통해 개발자들의 마음을 사로잡는다는 점을 강조하고 있습니다. 자바는 다양한 라이브러리와 프레임워크를 제공하여 개발을 보다 쉽고 효율적으로 할 수 있도록 도와줍니다.\\n\\n이 시는 자바 프로그래밍 언어의 아름다움과 강력한 기능, 안정성을 찬양하며, 개발자들이 자바를 통해 즐거운 개발 경험을 할 수 있다는 메시지를 전달하고 있습니다. 자바는 역사적으로도 중요한 위치를 차지하고 있으며, 현재에도 많은 기업과 개발자들이 사용하고 있는 인기 있는 프로그래밍 언어 중 하나입니다.')"
      ]
     },
     "execution_count": 5,
     "metadata": {},
     "output_type": "execute_result"
    }
   ],
   "source": [
    "\"\"\"\n",
    "체인 실행 예제\n",
    "- Python 프로그래밍 언어에 대한 시와 설명을 생성\n",
    "- final_chain에 language 파라미터를 전달하여 실행\n",
    "- 결과는 실시간으로 스트리밍되어 출력됨\n",
    "\"\"\"\n",
    "\n",
    "# Python에 대한 시와 설명 생성\n",
    "final_chain.invoke({\"language\": \"Java\"})"
   ]
  }
 ],
 "metadata": {
  "kernelspec": {
   "display_name": "env",
   "language": "python",
   "name": "python3"
  },
  "language_info": {
   "codemirror_mode": {
    "name": "ipython",
    "version": 3
   },
   "file_extension": ".py",
   "mimetype": "text/x-python",
   "name": "python",
   "nbconvert_exporter": "python",
   "pygments_lexer": "ipython3",
   "version": "3.11.6"
  }
 },
 "nbformat": 4,
 "nbformat_minor": 2
}
