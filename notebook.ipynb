{
 "cells": [
  {
   "cell_type": "code",
   "execution_count": 8,
   "metadata": {},
   "outputs": [
    {
     "name": "stdout",
     "output_type": "stream",
     "text": [
      "=== FewShotPromptTemplate 결과 ===\n",
      "장르 : 액션, SF\n",
      "            감독 : 안소니 루소, 조 루소\n",
      "            주요 출연진 : 로버트 다우니 주니어, 크리스 에반스, 크리스 헴스워스, \n",
      "                        스칼렛 요한슨, 마크 러팔로, 제레미 레너, 폴 러드, 조슈 브롤린\n",
      "            예산 : 3억 56,000만 달러\n",
      "            흥행 수익 : 27억 9,000만 달러\n",
      "            평점 : IMDb 8.4/10\n",
      "            줄거리 : 타노스에게 패배한 어벤져스는 흩어져 살아남은 멤버들끼리 모여 \n",
      "                    마지막 기회를 잡기로 한다. 시간여행을 통해 과거로 돌아가 타노스가 \n",
      "                    손에 넣기 전의 인피니티 스톤을 찾아오는데..."
     ]
    },
    {
     "data": {
      "text/plain": [
       "AIMessageChunk(content='장르 : 액션, SF\\n            감독 : 안소니 루소, 조 루소\\n            주요 출연진 : 로버트 다우니 주니어, 크리스 에반스, 크리스 헴스워스, \\n                        스칼렛 요한슨, 마크 러팔로, 제레미 레너, 폴 러드, 조슈 브롤린\\n            예산 : 3억 56,000만 달러\\n            흥행 수익 : 27억 9,000만 달러\\n            평점 : IMDb 8.4/10\\n            줄거리 : 타노스에게 패배한 어벤져스는 흩어져 살아남은 멤버들끼리 모여 \\n                    마지막 기회를 잡기로 한다. 시간여행을 통해 과거로 돌아가 타노스가 \\n                    손에 넣기 전의 인피니티 스톤을 찾아오는데...')"
      ]
     },
     "execution_count": 8,
     "metadata": {},
     "output_type": "execute_result"
    }
   ],
   "source": [
    "from langchain.chat_models import ChatOpenAI\n",
    "from langchain.callbacks import StreamingStdOutCallbackHandler\n",
    "from langchain.prompts import PromptTemplate\n",
    "from langchain.prompts.few_shot import FewShotPromptTemplate\n",
    "from langchain.prompts.chat import (\n",
    "    ChatPromptTemplate,\n",
    "    SystemMessagePromptTemplate,\n",
    "    HumanMessagePromptTemplate,\n",
    ")\n",
    "\n",
    "# ChatOpenAI 모델 초기화\n",
    "chat = ChatOpenAI(\n",
    "    temperature=0.1,\n",
    "    streaming=True,\n",
    "    callbacks=[StreamingStdOutCallbackHandler()],\n",
    ")\n",
    "\n",
    "# 예시 대화 데이터 정의\n",
    "examples = [\n",
    "    {\n",
    "        \"question\": \"Please explain about this movie?\",\n",
    "        \"answer\": \"\"\"\n",
    "            장르 : SF, 액션, 어드벤처\n",
    "            감독 : 제임스 캐머런\n",
    "            주요 출연진 : 샘 워싱턴, 조 샐다나, 시고니 위버, 스티븐 랭\n",
    "            예산 : 2억 3,700만 달러\n",
    "            흥행 수익 : 29억 2,300만 달러\n",
    "            평점 : IMDb 7.9/10\n",
    "            줄거리 : 2154년, 지구의 자원 고갈로 인해 판도라 행성의 자원을 채취하려는 인류. \n",
    "                    전직 해병대원 제이크 설리는 아바타 프로그램에 참여해 나비족의 몸에 \n",
    "                    의식을 이식하여 판도라에서 임무를 수행하게 된다. 하지만 나비족의 \n",
    "                    삶을 이해하게 되면서 그들의 편에 서서 지구인들과 맞서 싸우게 된다.\n",
    "        \"\"\"\n",
    "    },\n",
    "]\n",
    "\n",
    "# 1. FewShotPromptTemplate 사용 예시\n",
    "# 각 예시를 포맷팅할 템플릿 정의\n",
    "example_prompt = PromptTemplate(\n",
    "    input_variables=[\"question\", \"answer\"],\n",
    "    template=\"Human: {question}\\nMovie Expert: {answer}\",\n",
    ")\n",
    "\n",
    "# FewShotPromptTemplate 설정\n",
    "few_shot_prompt = FewShotPromptTemplate(\n",
    "    examples=examples,\n",
    "    example_prompt=example_prompt,\n",
    "    prefix=\"You are a movie expert. Here are some examples of how you talk. and answer in Korean.\",\n",
    "    suffix=\"Human: {input}\\nMovie Expert:\",\n",
    "    input_variables=[\"input\"],\n",
    "    example_separator=\"\\n\\n\"\n",
    ")\n",
    "\n",
    "# 2. FewShotChatMessagePromptTemplate 사용 예시\n",
    "# 예시 메시지를 포맷팅할 템플릿 정의\n",
    "example_chat_prompt = ChatPromptTemplate.from_messages([\n",
    "    (\"human\", \"{question}\"),\n",
    "    (\"assistant\", \"{answer}\")\n",
    "])\n",
    "\n",
    "\n",
    "# 두 가지 방식으로 체인 생성 및 실행\n",
    "chain1 = few_shot_prompt | chat\n",
    "\n",
    "# 실행 예시\n",
    "print(\"=== FewShotPromptTemplate 결과 ===\")\n",
    "chain1.invoke({\"input\": \"Please explain about Avengers: Endgame?\"})"
   ]
  }
 ],
 "metadata": {
  "kernelspec": {
   "display_name": "env",
   "language": "python",
   "name": "python3"
  },
  "language_info": {
   "codemirror_mode": {
    "name": "ipython",
    "version": 3
   },
   "file_extension": ".py",
   "mimetype": "text/x-python",
   "name": "python",
   "nbconvert_exporter": "python",
   "pygments_lexer": "ipython3",
   "version": "3.11.6"
  }
 },
 "nbformat": 4,
 "nbformat_minor": 2
}
