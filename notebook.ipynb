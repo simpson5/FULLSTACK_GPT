{
 "cells": [
  {
   "cell_type": "code",
   "execution_count": 1,
   "metadata": {},
   "outputs": [],
   "source": [
    "from langchain.chat_models import ChatOpenAI\n",
    "from langchain.prompts import ChatPromptTemplate\n",
    "from langchain.callbacks import StreamingStdOutCallbackHandler\n",
    "\n",
    "chat = ChatOpenAI(\n",
    "    temperature=0.1,\n",
    "    model=\"gpt-3.5-turbo\",\n",
    "    streaming=True,\n",
    "    callbacks=[StreamingStdOutCallbackHandler()],\n",
    ")\n"
   ]
  },
  {
   "cell_type": "code",
   "execution_count": 2,
   "metadata": {},
   "outputs": [],
   "source": [
    "from langchain.schema import BaseOutputParser\n",
    "\n",
    "class CommanOutputParser(BaseOutputParser):\n",
    "    def parse(self, text):\n",
    "        items = text.strip().split(\",\")\n",
    "        return list(map(str.strip, items))"
   ]
  },
  {
   "cell_type": "code",
   "execution_count": 3,
   "metadata": {},
   "outputs": [
    {
     "name": "stdout",
     "output_type": "stream",
     "text": [
      "In the realm of code, where languages thrive,\n",
      "There stands a stalwart, Java, alive.\n",
      "With syntax clean and structure sound,\n",
      "It reigns supreme, on solid ground.\n",
      "\n",
      "From humble beginnings, it did rise,\n",
      "To conquer realms beneath the skies.\n",
      "A language versatile, strong and true,\n",
      "Java, we salute, we honor you.\n",
      "\n",
      "With objects and classes, it weaves its tale,\n",
      "Of programs complex, that never fail.\n",
      "Its virtual machine, a marvel of art,\n",
      "Runs code with grace, a work of heart.\n",
      "\n",
      "From desktop to server, web to mobile,\n",
      "Java's reach is vast, its impact global.\n",
      "A language of power, of endless might,\n",
      "Java shines bright, in the coding light.\n",
      "\n",
      "So raise a toast, to Java's name,\n",
      "A language of legacy, of fame.\n",
      "In the world of code, it stands tall,\n",
      "Java, the greatest of them all.This is a beautiful poem that pays tribute to the Java programming language. The imagery and language used effectively capture the essence and significance of Java in the world of coding. The poem highlights Java's versatility, reliability, and widespread use across various platforms. The rhythmic flow and structure of the poem mirror the structured nature of Java itself. Overall, it is a fitting homage to a language that has indeed made a lasting impact in the realm of programming."
     ]
    },
    {
     "data": {
      "text/plain": [
       "AIMessageChunk(content=\"This is a beautiful poem that pays tribute to the Java programming language. The imagery and language used effectively capture the essence and significance of Java in the world of coding. The poem highlights Java's versatility, reliability, and widespread use across various platforms. The rhythmic flow and structure of the poem mirror the structured nature of Java itself. Overall, it is a fitting homage to a language that has indeed made a lasting impact in the realm of programming.\")"
      ]
     },
     "execution_count": 3,
     "metadata": {},
     "output_type": "execute_result"
    }
   ],
   "source": [
    "# 프로그래밍 언어에 대한 시를 쓰는 데 특화된 체인\n",
    "write_poem_template = ChatPromptTemplate.from_messages([\n",
    "    (\"system\", \"you are a poetry expert as well as a programming expert\"),\n",
    "    (\"human\", \"{question}\"),\n",
    "])\n",
    "\n",
    "write_poem_chain = write_poem_template | chat\n",
    "\n",
    "# 시를 설명하는 데 특화된 체인\n",
    "explain_poem_template = ChatPromptTemplate.from_messages([\n",
    "    (\"system\", \"you are a poetry expert as well as a programming expert\"),\n",
    "    (\"human\", \"{poem}\"),\n",
    "])\n",
    "\n",
    "explain_poem_chain = explain_poem_template | chat\n",
    "\n",
    "chain = {\"poem\" : write_poem_chain} | explain_poem_chain\n",
    "\n",
    "chain.invoke({\"question\": \"write a poem about Java\"})   \n"
   ]
  },
  {
   "cell_type": "code",
   "execution_count": null,
   "metadata": {},
   "outputs": [],
   "source": []
  }
 ],
 "metadata": {
  "kernelspec": {
   "display_name": "env",
   "language": "python",
   "name": "python3"
  },
  "language_info": {
   "codemirror_mode": {
    "name": "ipython",
    "version": 3
   },
   "file_extension": ".py",
   "mimetype": "text/x-python",
   "name": "python",
   "nbconvert_exporter": "python",
   "pygments_lexer": "ipython3",
   "version": "3.11.6"
  }
 },
 "nbformat": 4,
 "nbformat_minor": 2
}
