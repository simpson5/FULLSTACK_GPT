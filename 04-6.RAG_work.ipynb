{
 "cells": [
  {
   "cell_type": "code",
   "execution_count": 6,
   "metadata": {},
   "outputs": [
    {
     "name": "stdout",
     "output_type": "stream",
     "text": [
      "content='제가 알기로는 Aaronson이 유죄임을 알지 못합니다.'\n"
     ]
    }
   ],
   "source": [
    "# LangChain 필요 컴포넌트 임포트\n",
    "from langchain.chat_models import ChatOpenAI  # LLM 모델 (ChatGPT)\n",
    "from langchain.document_loaders import UnstructuredFileLoader  # 텍스트 파일 로더\n",
    "from langchain.text_splitter import CharacterTextSplitter  # 문서 분할기\n",
    "from langchain.embeddings import OpenAIEmbeddings, CacheBackedEmbeddings  # 텍스트 임베딩 도구\n",
    "from langchain.vectorstores import FAISS  # 벡터 데이터베이스\n",
    "from langchain.storage import LocalFileStore  # 로컬 캐시 저장소\n",
    "from langchain.prompts import ChatPromptTemplate  # 프롬프트 템플릿\n",
    "from langchain.schema.runnable import RunnablePassthrough  # 체인 구성 유틸리티\n",
    "from langchain.memory import ConversationBufferMemory # 메모리??\n",
    "\n",
    "# LLM 모델 초기화 (낮은 temperature로 일관된 응답 유도)\n",
    "llm = ChatOpenAI(\n",
    "    temperature=0.1,\n",
    ")\n",
    "\n",
    "# 대화 내용을 요약하여 저장하는 메모리 초기화\n",
    "# 단순한 메모리 저장 방식\n",
    "# 대화 내용을 시간 순서대로 모두 저장하는 가장 기본적인 메모리 타입입니다.\n",
    "# 이전 대화들을 그대로 버퍼에 저장하여 유지합니다.\n",
    "# 메모리 구조\n",
    "# 대화는 input(사용자 입력)과 output(AI 응답) 쌍으로 저장됩니다.\n",
    "# 모든 대화 기록이 순차적으로 저장되어 컨텍스트로 활용될 수 있습니다.\n",
    "buffer_memory = ConversationBufferMemory(\n",
    "    llm=llm,  # 요약에 사용할 언어 모델\n",
    "    memory_key=\"history\",  # 메모리를 참조할 때 사용할 키\n",
    "    return_messages=True   # 메시지 객체 형태로 반환\n",
    ")\n",
    "\n",
    "# 임베딩 캐시 저장소 설정\n",
    "cache_dir = LocalFileStore(\"./.cache/\")\n",
    "\n",
    "# 문서 분할 설정\n",
    "# chunk_size: 각 분할 크기, chunk_overlap: 분할 간 중복되는 부분\n",
    "splitter = CharacterTextSplitter.from_tiktoken_encoder(\n",
    "    separator=\"\\n\",\n",
    "    chunk_size=600,\n",
    "    chunk_overlap=100,\n",
    ")\n",
    "\n",
    "# 텍스트 파일 로드\n",
    "loader = UnstructuredFileLoader(\"./files/document.txt\")\n",
    "\n",
    "# 문서를 설정된 크기로 분할\n",
    "docs = loader.load_and_split(text_splitter=splitter)\n",
    "\n",
    "# OpenAI 임베딩 모델 초기화\n",
    "embeddings = OpenAIEmbeddings()\n",
    "\n",
    "# 임베딩 결과 캐싱 설정 (API 비용 절감)\n",
    "cached_embeddings = CacheBackedEmbeddings.from_bytes_store(embeddings, cache_dir)\n",
    "\n",
    "# 분할된 문서를 벡터화하여 FAISS에 저장\n",
    "vectorstore = FAISS.from_documents(docs, cached_embeddings)\n",
    "\n",
    "# 유사도 검색을 위한 리트리버 생성\n",
    "# what is retriver?\n",
    "# 한개의 스트링을 받아 질문이나 그와 관련성이 있는 문서를 얻기위한 쿼리 등\n",
    "# 출력값은 문서의 리스트임\n",
    "retriver = vectorstore.as_retriever()\n",
    "\n",
    "# 질문-답변을 위한 프롬프트 템플릿 정의\n",
    "prompt = ChatPromptTemplate.from_messages(\n",
    "    [\n",
    "        (\n",
    "            \"system\",\n",
    "            \"\"\"\n",
    "            You are a helpful assistant.\n",
    "            Answer questions using only the following context.\n",
    "            and return the answer in Korean.\n",
    "            If you don't know the answer just say you don't know,\n",
    "            don't make it up:\\n\\n{context}\n",
    "            \"\"\",\n",
    "        ),\n",
    "        (\"human\", \"{question}\"),\n",
    "    ]\n",
    ")\n",
    "\n",
    "# 전체 체인 구성:\n",
    "# 1. 질문에 관련된 문서 검색\n",
    "# 2. 검색된 문서를 컨텍스트로 프롬프트 생성\n",
    "# 3. LLM으로 답변 생성\n",
    "# RunnablePassthrough : 입력 값을 그대로 전달하는 역할\n",
    "chain = (\n",
    "    # {\n",
    "    #     \"context\": retriver,  # 문서 검색\n",
    "    #     \"question\": RunnablePassthrough(),  # 사용자 질문 전달\n",
    "    # }\n",
    "    # >>> error 발생 ???\n",
    "    # TypeError: expected string or buffer\n",
    "    # Output is truncated. View as a scrollable element or open in a text editor. Adjust cell output settings...\n",
    "    # error 발생 이유 : ???\n",
    "    # lambda 사용 이유 : 체인 구성 시 입력 값을 함수로 전달하여 동적으로 처리하기 위함\n",
    "    {\n",
    "        \"context\": lambda x: retriver.get_relevant_documents(x[\"question\"]),  # 문서 검색\n",
    "        \"question\": lambda x: x[\"question\"],  # 사용자 질문 전달\n",
    "    }    \n",
    "    | prompt\n",
    "    | llm\n",
    ")\n",
    "\n",
    "# 체인 실행 함수\n",
    "def invoke_chain(question):\n",
    "    # 체인 실행\n",
    "    result = chain.invoke({\"question\": question})\n",
    "    # 대화 내용을 메모리에 저장\n",
    "    buffer_memory.save_context(\n",
    "        {\"input\": question},\n",
    "        {\"output\": result.content},\n",
    "    )\n",
    "    print(result)\n",
    "\n",
    "# Victory Mansions에 대한 설명 요청\n",
    "invoke_chain(\"Aaronson 은 유죄인가요?\")"
   ]
  },
  {
   "cell_type": "code",
   "execution_count": 7,
   "metadata": {},
   "outputs": [
    {
     "name": "stdout",
     "output_type": "stream",
     "text": [
      "content=\"그가 쓴 메시지는 'FREEDOM IS SLAVERY'와 'TWO AND TWO MAKE FIVE'입니다.\"\n"
     ]
    }
   ],
   "source": [
    "invoke_chain(\"그가 테이블에 어떤 메시지를 썼나요?\")"
   ]
  },
  {
   "cell_type": "code",
   "execution_count": 8,
   "metadata": {},
   "outputs": [
    {
     "name": "stdout",
     "output_type": "stream",
     "text": [
      "content='Julia는 Winston과 사랑을 나눈 여성입니다.'\n"
     ]
    }
   ],
   "source": [
    "invoke_chain(\"Julia 는 누구인가요?\")"
   ]
  }
 ],
 "metadata": {
  "kernelspec": {
   "display_name": "env",
   "language": "python",
   "name": "python3"
  },
  "language_info": {
   "codemirror_mode": {
    "name": "ipython",
    "version": 3
   },
   "file_extension": ".py",
   "mimetype": "text/x-python",
   "name": "python",
   "nbconvert_exporter": "python",
   "pygments_lexer": "ipython3",
   "version": "3.11.6"
  }
 },
 "nbformat": 4,
 "nbformat_minor": 2
}
