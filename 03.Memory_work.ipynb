{
 "cells": [
  {
   "cell_type": "code",
   "execution_count": 40,
   "metadata": {},
   "outputs": [],
   "source": [
    "# LangChain의 주요 컴포넌트들을 임포트\n",
    "from langchain.chat_models import ChatOpenAI  # ChatGPT API를 사용하기 위한 클래스\n",
    "from langchain.prompts.few_shot import FewShotChatMessagePromptTemplate  # Few-shot 학습을 위한 프롬프트 템플릿\n",
    "from langchain.callbacks import StreamingStdOutCallbackHandler  # 스트리밍 출력을 처리하기 위한 콜백\n",
    "from langchain.prompts import ChatPromptTemplate, MessagesPlaceholder  # 채팅 프롬프트 관련 클래스들\n",
    "from langchain.memory import ConversationSummaryBufferMemory  # 대화 내용을 요약하여 저장하는 메모리\n",
    "from langchain.schema.runnable import RunnablePassthrough  # 체인 구성을 위한 유틸리티\n",
    "\n",
    "# ChatGPT 모델 초기화\n",
    "chat = ChatOpenAI(\n",
    "    temperature=0.1,  # 낮은 temperature로 일관된 응답 생성\n",
    "    streaming=True,   # 응답을 스트리밍 방식으로 받기\n",
    "    callbacks=[\n",
    "        StreamingStdOutCallbackHandler(),  # 응답을 실시간으로 출력\n",
    "    ],\n",
    ")\n",
    "\n",
    "# 대화 내용을 요약하여 저장하는 메모리 초기화\n",
    "summary_memory = ConversationSummaryBufferMemory(\n",
    "    llm=chat,  # 요약에 사용할 언어 모델\n",
    "    memory_key=\"history\",  # 메모리를 참조할 때 사용할 키\n",
    "    return_messages=True   # 메시지 객체 형태로 반환\n",
    ")\n",
    "\n",
    "# Few-shot 학습을 위한 예시 데이터\n",
    "examples = [\n",
    "    {\n",
    "        \"movie\": \"Express topgun with 3 icons and explain\",\n",
    "        \"answer\": \"\"\"\n",
    "                🛩️👨‍✈️🔥\n",
    "                첫 번째 아이콘은 탑건의 비행기를 나타내며, 두 번째 아이콘은 탑건의 파일럿을 나타내며, 세 번째 아이콘은 비행기 전투를 나타냅니다.\n",
    "        \"\"\",\n",
    "    },\n",
    "    {\n",
    "        \"movie\": \"Express godzilla with 3 icons and explain\",\n",
    "        \"answer\": \"\"\"\n",
    "                🦖🔥👑\n",
    "                첫 번째 아이콘은 고지라의 모습을 나타내며, 두 번째 아이콘은 고지라의 불꽃을 나타내며, 세 번째 아이콘은 고지라의 왕관을 나타냅니다.\n",
    "        \"\"\",\n",
    "    },\n",
    "]\n",
    "\n",
    "# 각 예시를 위한 채팅 프롬프트 템플릿 생성\n",
    "example_prompt = ChatPromptTemplate.from_messages(\n",
    "    [\n",
    "        (\"human\", \"Express {movie} with 3 icons and explain\"),\n",
    "        (\"ai\", \"{answer}\"),\n",
    "    ]\n",
    ")\n",
    "\n",
    "# Few-shot 학습을 위한 프롬프트 템플릿 생성\n",
    "example_prompt = FewShotChatMessagePromptTemplate(\n",
    "    example_prompt=example_prompt,\n",
    "    examples=examples,\n",
    ")\n",
    "\n",
    "# 최종 프롬프트 템플릿 구성\n",
    "final_prompt = ChatPromptTemplate.from_messages(\n",
    "    [\n",
    "        (\"system\", \"You are a movie expert. Here are some examples of how you talk. and answer in Korean.\"),  # 시스템 역할 정의\n",
    "        example_prompt,  # Few-shot 예시들\n",
    "        MessagesPlaceholder(variable_name=\"history\"),  # 이전 대화 내용을 위한 플레이스홀더\n",
    "        (\"human\", \"{question}\"),  # 사용자 입력\n",
    "    ]\n",
    ")\n",
    "\n",
    "# 메모리에서 대화 내용을 로드하는 함수\n",
    "def load_memory(_):\n",
    "    return summary_memory.load_memory_variables({})[\"history\"]\n",
    "\n",
    "# 체인 구성: 메모리 로드 -> 프롬프트 생성 -> 챗봇 응답\n",
    "chain = RunnablePassthrough.assign(history=load_memory) | final_prompt | chat\n",
    "\n",
    "# 체인을 실행하고 결과를 메모리에 저장하는 함수\n",
    "def invoke_chain(question):\n",
    "    # 체인 실행\n",
    "    result = chain.invoke({\"question\": question})\n",
    "    # 대화 내용을 메모리에 저장\n",
    "    summary_memory.save_context(\n",
    "        {\"input\": question},\n",
    "        {\"output\": result.content},\n",
    "    )\n",
    "    print(result)"
   ]
  },
  {
   "cell_type": "code",
   "execution_count": 42,
   "metadata": {},
   "outputs": [
    {
     "name": "stdout",
     "output_type": "stream",
     "text": [
      "\n",
      "                ⚔️🦸‍♂️⌛\n",
      "                첫 번째 아이콘은 전투를 나타내며, 두 번째 아이콘은 슈퍼히어로를 나타내며, 세 번째 아이콘은 시간 여행을 나타냅니다.content='\\n                ⚔️🦸\\u200d♂️⌛\\n                첫 번째 아이콘은 전투를 나타내며, 두 번째 아이콘은 슈퍼히어로를 나타내며, 세 번째 아이콘은 시간 여행을 나타냅니다.'\n"
     ]
    }
   ],
   "source": [
    "invoke_chain(\"Express avengers endgame with 3 icons and explain\")"
   ]
  },
  {
   "cell_type": "code",
   "execution_count": 43,
   "metadata": {},
   "outputs": [
    {
     "name": "stdout",
     "output_type": "stream",
     "text": [
      "네, 기억하고 있습니다. 아이콘을 사용하여 '어벤져스: 엔드게임'을 설명해 드렸죠. 다른 질문이 있으시면 언제든지 물어보세요.content=\"네, 기억하고 있습니다. 아이콘을 사용하여 '어벤져스: 엔드게임'을 설명해 드렸죠. 다른 질문이 있으시면 언제든지 물어보세요.\"\n"
     ]
    }
   ],
   "source": [
    "invoke_chain(\"내가 아까 말한 영화를 기억해?\")"
   ]
  }
 ],
 "metadata": {
  "kernelspec": {
   "display_name": "env",
   "language": "python",
   "name": "python3"
  },
  "language_info": {
   "codemirror_mode": {
    "name": "ipython",
    "version": 3
   },
   "file_extension": ".py",
   "mimetype": "text/x-python",
   "name": "python",
   "nbconvert_exporter": "python",
   "pygments_lexer": "ipython3",
   "version": "3.11.6"
  }
 },
 "nbformat": 4,
 "nbformat_minor": 2
}
