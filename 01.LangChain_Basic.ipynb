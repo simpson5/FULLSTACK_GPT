{
 "cells": [
  {
   "cell_type": "code",
   "execution_count": 1,
   "metadata": {},
   "outputs": [],
   "source": [
    "# 01. LangChain Basic\n",
    "# 1.1. 채팅 모델 사용하기\n",
    "from langchain.chat_models import ChatOpenAI\n",
    "from langchain.prompts import ChatPromptTemplate\n",
    "from langchain.callbacks import StreamingStdOutCallbackHandler\n",
    "\n",
    "# 채팅 모델 생성\n",
    "chat = ChatOpenAI(\n",
    "    temperature=0.1, # 모델의 예측 불확실성을 조절하는 매개변수\n",
    "    model=\"gpt-3.5-turbo\", # 사용할 모델 이름\n",
    "    streaming=True, # 스트리밍 출력 사용 여부\n",
    "    callbacks=[StreamingStdOutCallbackHandler()], # 스트리밍 출력 콜백 함수\n",
    ")\n"
   ]
  },
  {
   "cell_type": "code",
   "execution_count": 2,
   "metadata": {},
   "outputs": [],
   "source": [
    "# 출력 파서 BaseOutputParser\n",
    "from langchain.schema import BaseOutputParser\n",
    "\n",
    "# 출력 파서 클래스 정의\n",
    "class CommanOutputParser(BaseOutputParser):\n",
    "    def parse(self, text):\n",
    "        items = text.strip().split(\",\")\n",
    "        return list(map(str.strip, items))"
   ]
  },
  {
   "cell_type": "code",
   "execution_count": null,
   "metadata": {},
   "outputs": [],
   "source": [
    "# 프로그래밍 언어에 대한 시를 쓰는 데 특화된 체인\n",
    "write_poem_template = ChatPromptTemplate.from_messages([\n",
    "    (\"system\", \"you are a poetry expert as well as a programming expert\"),\n",
    "    (\"human\", \"{question}\"),\n",
    "])\n",
    "\n",
    "# 체인 생성\n",
    "write_poem_chain = write_poem_template | chat\n",
    "\n",
    "# 시를 설명하는 데 특화된 체인\n",
    "explain_poem_template = ChatPromptTemplate.from_messages([\n",
    "    (\"system\", \"you are a poetry expert as well as a programming expert\"),\n",
    "    (\"human\", \"{poem}\"),\n",
    "])\n",
    "\n",
    "# 체인 생성\n",
    "explain_poem_chain = explain_poem_template | chat\n",
    "\n",
    "# 체인 연결\n",
    "chain = {\"poem\" : write_poem_chain} | explain_poem_chain\n",
    "\n",
    "# 체인 호출\n",
    "chain.invoke({\"question\": \"write a poem about Java\"})   \n"
   ]
  },
  {
   "cell_type": "code",
   "execution_count": null,
   "metadata": {},
   "outputs": [],
   "source": []
  }
 ],
 "metadata": {
  "kernelspec": {
   "display_name": "env",
   "language": "python",
   "name": "python3"
  },
  "language_info": {
   "codemirror_mode": {
    "name": "ipython",
    "version": 3
   },
   "file_extension": ".py",
   "mimetype": "text/x-python",
   "name": "python",
   "nbconvert_exporter": "python",
   "pygments_lexer": "ipython3",
   "version": "3.11.6"
  }
 },
 "nbformat": 4,
 "nbformat_minor": 2
}
